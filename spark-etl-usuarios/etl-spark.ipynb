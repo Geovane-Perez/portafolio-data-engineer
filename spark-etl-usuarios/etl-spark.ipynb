{
  "nbformat": 4,
  "nbformat_minor": 0,
  "metadata": {
    "colab": {
      "provenance": []
    },
    "kernelspec": {
      "name": "python3",
      "display_name": "Python 3"
    },
    "language_info": {
      "name": "python"
    }
  },
  "cells": [
    {
      "cell_type": "code",
      "execution_count": 1,
      "metadata": {
        "colab": {
          "base_uri": "https://localhost:8080/"
        },
        "id": "l72VEy02lfwe",
        "outputId": "c953713d-d778-4e76-cd1b-659e4eee9186"
      },
      "outputs": [
        {
          "output_type": "stream",
          "name": "stdout",
          "text": [
            "Requirement already satisfied: pyspark in /usr/local/lib/python3.11/dist-packages (3.5.1)\n",
            "Requirement already satisfied: py4j==0.10.9.7 in /usr/local/lib/python3.11/dist-packages (from pyspark) (0.10.9.7)\n"
          ]
        }
      ],
      "source": [
        "!pip install pyspark"
      ]
    },
    {
      "cell_type": "code",
      "source": [
        "from pyspark.sql import SparkSession\n",
        "\n",
        "# Crear la sesión de Spark\n",
        "spark = SparkSession.builder \\\n",
        "    .appName(\"Intro a Spark\") \\\n",
        "    .getOrCreate()\n",
        "\n",
        "# Confirmar que Spark está corriendo\n",
        "spark"
      ],
      "metadata": {
        "colab": {
          "base_uri": "https://localhost:8080/",
          "height": 219
        },
        "id": "qAf7zeHbmRYZ",
        "outputId": "7e04dbd6-39d1-4eb8-8d5b-b9b1e154b4e0"
      },
      "execution_count": 2,
      "outputs": [
        {
          "output_type": "execute_result",
          "data": {
            "text/plain": [
              "<pyspark.sql.session.SparkSession at 0x7c9cc8091fd0>"
            ],
            "text/html": [
              "\n",
              "            <div>\n",
              "                <p><b>SparkSession - in-memory</b></p>\n",
              "                \n",
              "        <div>\n",
              "            <p><b>SparkContext</b></p>\n",
              "\n",
              "            <p><a href=\"http://e474787a1b96:4040\">Spark UI</a></p>\n",
              "\n",
              "            <dl>\n",
              "              <dt>Version</dt>\n",
              "                <dd><code>v3.5.1</code></dd>\n",
              "              <dt>Master</dt>\n",
              "                <dd><code>local[*]</code></dd>\n",
              "              <dt>AppName</dt>\n",
              "                <dd><code>Intro a Spark</code></dd>\n",
              "            </dl>\n",
              "        </div>\n",
              "        \n",
              "            </div>\n",
              "        "
            ]
          },
          "metadata": {},
          "execution_count": 2
        }
      ]
    },
    {
      "cell_type": "code",
      "source": [
        "# Crear un CSV de ejemplo\n",
        "data = \"\"\"id,nombre,edad\n",
        "1,Ana,28\n",
        "2,Juan,35\n",
        "3,Luisa,41\n",
        "4,Pedro,23\n",
        "\"\"\"\n",
        "\n",
        "# Guardar en archivo local en Colab\n",
        "with open(\"personas.csv\", \"w\") as f:\n",
        "    f.write(data)"
      ],
      "metadata": {
        "id": "RMLWEDCQnGOp"
      },
      "execution_count": 4,
      "outputs": []
    },
    {
      "cell_type": "code",
      "source": [
        "# Leer el archivo CSV\n",
        "df = spark.read.csv(\"personas.csv\", header=True, inferSchema=True)\n",
        "\n",
        "# Mostrar las primeras filas\n",
        "df.show()"
      ],
      "metadata": {
        "colab": {
          "base_uri": "https://localhost:8080/"
        },
        "id": "CBtjognOmtN0",
        "outputId": "f1eda8f4-e412-4e1c-a6d4-792516707adc"
      },
      "execution_count": 5,
      "outputs": [
        {
          "output_type": "stream",
          "name": "stdout",
          "text": [
            "+---+------+----+\n",
            "| id|nombre|edad|\n",
            "+---+------+----+\n",
            "|  1|   Ana|  28|\n",
            "|  2|  Juan|  35|\n",
            "|  3| Luisa|  41|\n",
            "|  4| Pedro|  23|\n",
            "+---+------+----+\n",
            "\n"
          ]
        }
      ]
    },
    {
      "cell_type": "code",
      "source": [
        "df.printSchema()\n",
        "df.count()"
      ],
      "metadata": {
        "colab": {
          "base_uri": "https://localhost:8080/"
        },
        "id": "AL6L6l2bnnYr",
        "outputId": "e76a65df-a4e4-462f-8db9-e47dbfdb1fd8"
      },
      "execution_count": 6,
      "outputs": [
        {
          "output_type": "stream",
          "name": "stdout",
          "text": [
            "root\n",
            " |-- id: integer (nullable = true)\n",
            " |-- nombre: string (nullable = true)\n",
            " |-- edad: integer (nullable = true)\n",
            "\n"
          ]
        },
        {
          "output_type": "execute_result",
          "data": {
            "text/plain": [
              "4"
            ]
          },
          "metadata": {},
          "execution_count": 6
        }
      ]
    },
    {
      "cell_type": "code",
      "source": [
        "df.select(\"nombre\", \"edad\").show()"
      ],
      "metadata": {
        "colab": {
          "base_uri": "https://localhost:8080/"
        },
        "id": "UScbvN6InvXn",
        "outputId": "64de94a9-5543-4698-b4c8-b6a03a992344"
      },
      "execution_count": 7,
      "outputs": [
        {
          "output_type": "stream",
          "name": "stdout",
          "text": [
            "+------+----+\n",
            "|nombre|edad|\n",
            "+------+----+\n",
            "|   Ana|  28|\n",
            "|  Juan|  35|\n",
            "| Luisa|  41|\n",
            "| Pedro|  23|\n",
            "+------+----+\n",
            "\n"
          ]
        }
      ]
    },
    {
      "cell_type": "code",
      "source": [
        "df.filter(df.edad > 30).show()"
      ],
      "metadata": {
        "colab": {
          "base_uri": "https://localhost:8080/"
        },
        "id": "KRYzSM17n9kA",
        "outputId": "e726621d-5312-450a-cad0-9f7598457c93"
      },
      "execution_count": 8,
      "outputs": [
        {
          "output_type": "stream",
          "name": "stdout",
          "text": [
            "+---+------+----+\n",
            "| id|nombre|edad|\n",
            "+---+------+----+\n",
            "|  2|  Juan|  35|\n",
            "|  3| Luisa|  41|\n",
            "+---+------+----+\n",
            "\n"
          ]
        }
      ]
    },
    {
      "cell_type": "code",
      "source": [
        "from pyspark.sql.functions import lit\n",
        "\n",
        "df = df.withColumn(\"activo\", lit(True))\n",
        "df.show()"
      ],
      "metadata": {
        "colab": {
          "base_uri": "https://localhost:8080/"
        },
        "id": "lYljn7o8oC2l",
        "outputId": "e60ba8ee-1bdc-46c0-d210-eec9c363099c"
      },
      "execution_count": 9,
      "outputs": [
        {
          "output_type": "stream",
          "name": "stdout",
          "text": [
            "+---+------+----+------+\n",
            "| id|nombre|edad|activo|\n",
            "+---+------+----+------+\n",
            "|  1|   Ana|  28|  true|\n",
            "|  2|  Juan|  35|  true|\n",
            "|  3| Luisa|  41|  true|\n",
            "|  4| Pedro|  23|  true|\n",
            "+---+------+----+------+\n",
            "\n"
          ]
        }
      ]
    },
    {
      "cell_type": "code",
      "source": [
        "from pyspark.sql.functions import when\n",
        "\n",
        "df = df.withColumn(\n",
        "    \"departamento\",\n",
        "    when(df.nombre == \"Ana\", \"Ventas\")\n",
        "    .when(df.nombre == \"Juan\", \"Marketing\")\n",
        "    .when(df.nombre == \"Luisa\", \"TI\")\n",
        "    .otherwise(\"Operaciones\")\n",
        ")\n",
        "\n",
        "df.show()"
      ],
      "metadata": {
        "colab": {
          "base_uri": "https://localhost:8080/"
        },
        "id": "WBjH-c_HpDfY",
        "outputId": "2ae3ca69-cba9-4025-d822-d1c9d7d8bdef"
      },
      "execution_count": 10,
      "outputs": [
        {
          "output_type": "stream",
          "name": "stdout",
          "text": [
            "+---+------+----+------+------------+\n",
            "| id|nombre|edad|activo|departamento|\n",
            "+---+------+----+------+------------+\n",
            "|  1|   Ana|  28|  true|      Ventas|\n",
            "|  2|  Juan|  35|  true|   Marketing|\n",
            "|  3| Luisa|  41|  true|          TI|\n",
            "|  4| Pedro|  23|  true| Operaciones|\n",
            "+---+------+----+------+------------+\n",
            "\n"
          ]
        }
      ]
    },
    {
      "cell_type": "code",
      "source": [
        "from pyspark.sql.functions import avg\n",
        "\n",
        "df.groupBy(\"departamento\").agg(avg(\"edad\").alias(\"edad_promedio\")).show()"
      ],
      "metadata": {
        "colab": {
          "base_uri": "https://localhost:8080/"
        },
        "id": "xn9XAcSjpJ8w",
        "outputId": "7f9bb346-1fa5-4e73-f28b-affe6d164f8b"
      },
      "execution_count": 11,
      "outputs": [
        {
          "output_type": "stream",
          "name": "stdout",
          "text": [
            "+------------+-------------+\n",
            "|departamento|edad_promedio|\n",
            "+------------+-------------+\n",
            "|          TI|         41.0|\n",
            "| Operaciones|         23.0|\n",
            "|      Ventas|         28.0|\n",
            "|   Marketing|         35.0|\n",
            "+------------+-------------+\n",
            "\n"
          ]
        }
      ]
    },
    {
      "cell_type": "code",
      "source": [
        "from pyspark.sql.functions import count\n",
        "\n",
        "df.groupBy(\"departamento\").agg(count(\"*\").alias(\"total_personas\")).show()"
      ],
      "metadata": {
        "colab": {
          "base_uri": "https://localhost:8080/"
        },
        "id": "Q4q881mipXQA",
        "outputId": "b4b61d0f-41f4-456f-a126-c20d999d1479"
      },
      "execution_count": 12,
      "outputs": [
        {
          "output_type": "stream",
          "name": "stdout",
          "text": [
            "+------------+--------------+\n",
            "|departamento|total_personas|\n",
            "+------------+--------------+\n",
            "|          TI|             1|\n",
            "| Operaciones|             1|\n",
            "|      Ventas|             1|\n",
            "|   Marketing|             1|\n",
            "+------------+--------------+\n",
            "\n"
          ]
        }
      ]
    },
    {
      "cell_type": "code",
      "source": [
        "df.groupBy(\"departamento\").agg(avg(\"edad\").alias(\"edad_promedio\")).orderBy(\"edad_promedio\", ascending=False).show()"
      ],
      "metadata": {
        "colab": {
          "base_uri": "https://localhost:8080/"
        },
        "id": "NomMI8XDpb98",
        "outputId": "91a635a0-c7de-40fa-f3b6-62cd704ce000"
      },
      "execution_count": 13,
      "outputs": [
        {
          "output_type": "stream",
          "name": "stdout",
          "text": [
            "+------------+-------------+\n",
            "|departamento|edad_promedio|\n",
            "+------------+-------------+\n",
            "|          TI|         41.0|\n",
            "|   Marketing|         35.0|\n",
            "|      Ventas|         28.0|\n",
            "| Operaciones|         23.0|\n",
            "+------------+-------------+\n",
            "\n"
          ]
        }
      ]
    },
    {
      "cell_type": "code",
      "source": [
        "from pyspark.sql import SparkSession\n",
        "\n",
        "# Ya debes tener tu SparkSession activa como spark\n",
        "# Si no la tienes, descomenta esta línea:\n",
        "# spark = SparkSession.builder.getOrCreate()\n",
        "\n",
        "from pyspark.sql import Row\n",
        "\n",
        "# DataFrame de empleados\n",
        "empleados_data = [\n",
        "    Row(id=1, nombre=\"Ana\", edad=30),\n",
        "    Row(id=2, nombre=\"Juan\", edad=25),\n",
        "    Row(id=3, nombre=\"Luisa\", edad=41),\n",
        "    Row(id=4, nombre=\"Pedro\", edad=28)\n",
        "]\n",
        "\n",
        "empleados_df = spark.createDataFrame(empleados_data)\n",
        "empleados_df.show()\n",
        "\n",
        "# DataFrame de salarios\n",
        "salarios_data = [\n",
        "    Row(id=1, salario=22000),\n",
        "    Row(id=2, salario=18000),\n",
        "    Row(id=4, salario=19500),\n",
        "    Row(id=5, salario=25000)  # Este ID no existe en empleados\n",
        "]\n",
        "\n",
        "salarios_df = spark.createDataFrame(salarios_data)\n",
        "salarios_df.show()"
      ],
      "metadata": {
        "colab": {
          "base_uri": "https://localhost:8080/"
        },
        "id": "LvORZo_tqrDK",
        "outputId": "36c8598f-63d1-4535-922c-53d94254d589"
      },
      "execution_count": 14,
      "outputs": [
        {
          "output_type": "stream",
          "name": "stdout",
          "text": [
            "+---+------+----+\n",
            "| id|nombre|edad|\n",
            "+---+------+----+\n",
            "|  1|   Ana|  30|\n",
            "|  2|  Juan|  25|\n",
            "|  3| Luisa|  41|\n",
            "|  4| Pedro|  28|\n",
            "+---+------+----+\n",
            "\n",
            "+---+-------+\n",
            "| id|salario|\n",
            "+---+-------+\n",
            "|  1|  22000|\n",
            "|  2|  18000|\n",
            "|  4|  19500|\n",
            "|  5|  25000|\n",
            "+---+-------+\n",
            "\n"
          ]
        }
      ]
    },
    {
      "cell_type": "code",
      "source": [
        "join_df = empleados_df.join(salarios_df, on=\"id\", how=\"inner\")\n",
        "join_df.show()"
      ],
      "metadata": {
        "colab": {
          "base_uri": "https://localhost:8080/"
        },
        "id": "FupGDlp_qtOc",
        "outputId": "1e2506e7-0df9-4c50-eaab-136fcf5c0faa"
      },
      "execution_count": 15,
      "outputs": [
        {
          "output_type": "stream",
          "name": "stdout",
          "text": [
            "+---+------+----+-------+\n",
            "| id|nombre|edad|salario|\n",
            "+---+------+----+-------+\n",
            "|  1|   Ana|  30|  22000|\n",
            "|  2|  Juan|  25|  18000|\n",
            "|  4| Pedro|  28|  19500|\n",
            "+---+------+----+-------+\n",
            "\n"
          ]
        }
      ]
    },
    {
      "cell_type": "code",
      "source": [
        "left_df = empleados_df.join(salarios_df, on=\"id\", how=\"left\")\n",
        "left_df.show()"
      ],
      "metadata": {
        "colab": {
          "base_uri": "https://localhost:8080/"
        },
        "id": "45LEYdV0qwei",
        "outputId": "2abfba9f-cde6-436d-f466-db6d673f6d5e"
      },
      "execution_count": 16,
      "outputs": [
        {
          "output_type": "stream",
          "name": "stdout",
          "text": [
            "+---+------+----+-------+\n",
            "| id|nombre|edad|salario|\n",
            "+---+------+----+-------+\n",
            "|  1|   Ana|  30|  22000|\n",
            "|  2|  Juan|  25|  18000|\n",
            "|  3| Luisa|  41|   NULL|\n",
            "|  4| Pedro|  28|  19500|\n",
            "+---+------+----+-------+\n",
            "\n"
          ]
        }
      ]
    },
    {
      "cell_type": "code",
      "source": [
        "outer_df = empleados_df.join(salarios_df, on=\"id\", how=\"outer\")\n",
        "outer_df.show()"
      ],
      "metadata": {
        "colab": {
          "base_uri": "https://localhost:8080/"
        },
        "id": "4MO1fw8Gq04B",
        "outputId": "a63edfa5-55a5-4964-c12a-6aca71bc8f17"
      },
      "execution_count": 17,
      "outputs": [
        {
          "output_type": "stream",
          "name": "stdout",
          "text": [
            "+---+------+----+-------+\n",
            "| id|nombre|edad|salario|\n",
            "+---+------+----+-------+\n",
            "|  1|   Ana|  30|  22000|\n",
            "|  2|  Juan|  25|  18000|\n",
            "|  3| Luisa|  41|   NULL|\n",
            "|  4| Pedro|  28|  19500|\n",
            "|  5|  NULL|NULL|  25000|\n",
            "+---+------+----+-------+\n",
            "\n"
          ]
        }
      ]
    },
    {
      "cell_type": "code",
      "source": [
        "from pyspark.sql import SparkSession\n",
        "\n",
        "spark = SparkSession.builder.getOrCreate()\n",
        "\n",
        "data = [\n",
        "    (1, \"Ana\", 28),\n",
        "    (2, \"Juan\", 35),\n",
        "    (3, \"Luisa\", 41),\n",
        "    (4, \"Pedro\", 22)\n",
        "]\n",
        "\n",
        "columns = [\"id\", \"nombre\", \"edad\"]\n",
        "\n",
        "df = spark.createDataFrame(data, columns)\n",
        "df.show()"
      ],
      "metadata": {
        "colab": {
          "base_uri": "https://localhost:8080/"
        },
        "id": "uliHsUAmtLzY",
        "outputId": "5db3cb75-f342-4298-d37c-187bb26f11a4"
      },
      "execution_count": 18,
      "outputs": [
        {
          "output_type": "stream",
          "name": "stdout",
          "text": [
            "+---+------+----+\n",
            "| id|nombre|edad|\n",
            "+---+------+----+\n",
            "|  1|   Ana|  28|\n",
            "|  2|  Juan|  35|\n",
            "|  3| Luisa|  41|\n",
            "|  4| Pedro|  22|\n",
            "+---+------+----+\n",
            "\n"
          ]
        }
      ]
    },
    {
      "cell_type": "code",
      "source": [
        "df.write.mode(\"overwrite\").option(\"header\", True).csv(\"salida_csv\")"
      ],
      "metadata": {
        "id": "AV_MWeuatOJo"
      },
      "execution_count": 19,
      "outputs": []
    },
    {
      "cell_type": "code",
      "source": [
        "!ls salida_csv"
      ],
      "metadata": {
        "colab": {
          "base_uri": "https://localhost:8080/"
        },
        "id": "QkDgpcfttSju",
        "outputId": "ca5188ae-1f71-4108-b6ac-87427d796352"
      },
      "execution_count": 20,
      "outputs": [
        {
          "output_type": "stream",
          "name": "stdout",
          "text": [
            "part-00000-3b2f7ff2-e047-41e3-b646-74f61e996a51-c000.csv  _SUCCESS\n",
            "part-00001-3b2f7ff2-e047-41e3-b646-74f61e996a51-c000.csv\n"
          ]
        }
      ]
    },
    {
      "cell_type": "code",
      "source": [
        "!head salida_csv/part-00001-*.csv"
      ],
      "metadata": {
        "colab": {
          "base_uri": "https://localhost:8080/"
        },
        "id": "H_HxJAK4tV0N",
        "outputId": "8e86c74a-ee6a-45fa-e74c-13db467fc33e"
      },
      "execution_count": 22,
      "outputs": [
        {
          "output_type": "stream",
          "name": "stdout",
          "text": [
            "id,nombre,edad\n",
            "3,Luisa,41\n",
            "4,Pedro,22\n"
          ]
        }
      ]
    },
    {
      "cell_type": "code",
      "source": [
        "df.write.mode(\"overwrite\").parquet(\"salida_parquet\")"
      ],
      "metadata": {
        "id": "2N2j2uaUtf0b"
      },
      "execution_count": 23,
      "outputs": []
    },
    {
      "cell_type": "code",
      "source": [
        "!ls salida_parquet"
      ],
      "metadata": {
        "colab": {
          "base_uri": "https://localhost:8080/"
        },
        "id": "36T6sTzEtkBK",
        "outputId": "6fb8b49a-bc74-43e4-d199-386f785e5288"
      },
      "execution_count": 24,
      "outputs": [
        {
          "output_type": "stream",
          "name": "stdout",
          "text": [
            "part-00000-d1b6b1d0-9eef-4980-be9d-e0f1fb441d3b-c000.snappy.parquet  _SUCCESS\n",
            "part-00001-d1b6b1d0-9eef-4980-be9d-e0f1fb441d3b-c000.snappy.parquet\n"
          ]
        }
      ]
    },
    {
      "cell_type": "code",
      "source": [
        "df_parquet = spark.read.parquet(\"salida_parquet\")\n",
        "df_parquet.show()"
      ],
      "metadata": {
        "colab": {
          "base_uri": "https://localhost:8080/"
        },
        "id": "LKNMk4zXtma_",
        "outputId": "821b9754-d083-4c6d-c863-e1d7cb122fb4"
      },
      "execution_count": 25,
      "outputs": [
        {
          "output_type": "stream",
          "name": "stdout",
          "text": [
            "+---+------+----+\n",
            "| id|nombre|edad|\n",
            "+---+------+----+\n",
            "|  3| Luisa|  41|\n",
            "|  4| Pedro|  22|\n",
            "|  1|   Ana|  28|\n",
            "|  2|  Juan|  35|\n",
            "+---+------+----+\n",
            "\n"
          ]
        }
      ]
    },
    {
      "cell_type": "code",
      "source": [
        "# Primer DataFrame: usuarios\n",
        "usuarios_data = [\n",
        "    (1, \"Ana\", 28),\n",
        "    (2, \"Juan\", 35),\n",
        "    (3, \"Luisa\", 41),\n",
        "    (4, \"Pedro\", 22)\n",
        "]\n",
        "usuarios_cols = [\"id\", \"nombre\", \"edad\"]\n",
        "df_usuarios = spark.createDataFrame(usuarios_data, usuarios_cols)\n",
        "\n",
        "# Segundo DataFrame: compras\n",
        "compras_data = [\n",
        "    (1, \"Laptop\", 1000),\n",
        "    (1, \"Mouse\", 25),\n",
        "    (2, \"Monitor\", 200),\n",
        "    (3, \"Teclado\", 50),\n",
        "    (5, \"Audífonos\", 75)  # id 5 no existe en usuarios\n",
        "]\n",
        "compras_cols = [\"id_usuario\", \"producto\", \"precio\"]\n",
        "df_compras = spark.createDataFrame(compras_data, compras_cols)"
      ],
      "metadata": {
        "id": "m_Dy_2FBuAUU"
      },
      "execution_count": 27,
      "outputs": []
    },
    {
      "cell_type": "code",
      "source": [
        "# Join tipo INNER\n",
        "df_joined = df_usuarios.join(df_compras, df_usuarios.id == df_compras.id_usuario, \"inner\")\n",
        "df_joined.show()"
      ],
      "metadata": {
        "colab": {
          "base_uri": "https://localhost:8080/"
        },
        "id": "oVE3LSaEuIK2",
        "outputId": "0101eb4a-4bb5-46a5-8702-89f6c8c6a7a3"
      },
      "execution_count": 28,
      "outputs": [
        {
          "output_type": "stream",
          "name": "stdout",
          "text": [
            "+---+------+----+----------+--------+------+\n",
            "| id|nombre|edad|id_usuario|producto|precio|\n",
            "+---+------+----+----------+--------+------+\n",
            "|  1|   Ana|  28|         1|  Laptop|  1000|\n",
            "|  1|   Ana|  28|         1|   Mouse|    25|\n",
            "|  2|  Juan|  35|         2| Monitor|   200|\n",
            "|  3| Luisa|  41|         3| Teclado|    50|\n",
            "+---+------+----+----------+--------+------+\n",
            "\n"
          ]
        }
      ]
    },
    {
      "cell_type": "code",
      "source": [
        "from pyspark.sql.functions import sum as spark_sum\n",
        "\n",
        "df_gastos = df_joined.groupBy(\"nombre\").agg(\n",
        "    spark_sum(\"precio\").alias(\"gasto_total\")\n",
        ")\n",
        "df_gastos.show()"
      ],
      "metadata": {
        "colab": {
          "base_uri": "https://localhost:8080/"
        },
        "id": "IsuLhGtsuKyk",
        "outputId": "0eea50de-04f5-4f10-953a-ae33a912addd"
      },
      "execution_count": 29,
      "outputs": [
        {
          "output_type": "stream",
          "name": "stdout",
          "text": [
            "+------+-----------+\n",
            "|nombre|gasto_total|\n",
            "+------+-----------+\n",
            "| Luisa|         50|\n",
            "|   Ana|       1025|\n",
            "|  Juan|        200|\n",
            "+------+-----------+\n",
            "\n"
          ]
        }
      ]
    },
    {
      "cell_type": "code",
      "source": [
        "from pyspark.sql.functions import current_date, date_add, datediff\n",
        "\n",
        "# Añadir columna con fecha actual y fecha futura\n",
        "df_con_fechas = df_usuarios.withColumn(\"hoy\", current_date()) \\\n",
        "                           .withColumn(\"expira\", date_add(current_date(), 30)) \\\n",
        "                           .withColumn(\"dias_restantes\", datediff(date_add(current_date(), 30), current_date()))\n",
        "\n",
        "df_con_fechas.show()"
      ],
      "metadata": {
        "colab": {
          "base_uri": "https://localhost:8080/"
        },
        "id": "QYOzlsRjuOIN",
        "outputId": "ea0a0c3b-b978-4a5c-c76a-a7453c37ddf3"
      },
      "execution_count": 30,
      "outputs": [
        {
          "output_type": "stream",
          "name": "stdout",
          "text": [
            "+---+------+----+----------+----------+--------------+\n",
            "| id|nombre|edad|       hoy|    expira|dias_restantes|\n",
            "+---+------+----+----------+----------+--------------+\n",
            "|  1|   Ana|  28|2025-08-07|2025-09-06|            30|\n",
            "|  2|  Juan|  35|2025-08-07|2025-09-06|            30|\n",
            "|  3| Luisa|  41|2025-08-07|2025-09-06|            30|\n",
            "|  4| Pedro|  22|2025-08-07|2025-09-06|            30|\n",
            "+---+------+----+----------+----------+--------------+\n",
            "\n"
          ]
        }
      ]
    },
    {
      "cell_type": "code",
      "source": [
        "from pyspark.sql import SparkSession\n",
        "\n",
        "spark = SparkSession.builder \\\n",
        "    .appName(\"Transformaciones Avanzadas\") \\\n",
        "    .getOrCreate()"
      ],
      "metadata": {
        "id": "O3QCjK5qvi_U"
      },
      "execution_count": 31,
      "outputs": []
    },
    {
      "cell_type": "code",
      "source": [
        "# Primer DataFrame: usuarios\n",
        "usuarios_data = [\n",
        "    (1, \"Ana\", 28),\n",
        "    (2, \"Juan\", 35),\n",
        "    (3, \"Luisa\", 41),\n",
        "    (4, \"Pedro\", 22)\n",
        "]\n",
        "usuarios_cols = [\"id\", \"nombre\", \"edad\"]\n",
        "df_usuarios = spark.createDataFrame(usuarios_data, usuarios_cols)"
      ],
      "metadata": {
        "id": "fCE6gZuRwBud"
      },
      "execution_count": 33,
      "outputs": []
    },
    {
      "cell_type": "code",
      "source": [
        "import os\n",
        "\n",
        "os.listdir(\"/content\")"
      ],
      "metadata": {
        "colab": {
          "base_uri": "https://localhost:8080/"
        },
        "id": "PTR5FDv8wQds",
        "outputId": "9730a765-b811-48d6-d36f-b868693d6048"
      },
      "execution_count": 35,
      "outputs": [
        {
          "output_type": "execute_result",
          "data": {
            "text/plain": [
              "['.config', 'salida_parquet', 'salida_csv', 'personas.csv', 'sample_data']"
            ]
          },
          "metadata": {},
          "execution_count": 35
        }
      ]
    },
    {
      "cell_type": "code",
      "source": [
        "df = spark.read.csv(\"/content/usuarios.csv\", header=True, inferSchema=True)\n",
        "df.show()"
      ],
      "metadata": {
        "colab": {
          "base_uri": "https://localhost:8080/"
        },
        "id": "zWOX4QGMxAWT",
        "outputId": "2f3dd670-7ccc-4e64-fda7-17e3d4d4f486"
      },
      "execution_count": 38,
      "outputs": [
        {
          "output_type": "stream",
          "name": "stdout",
          "text": [
            "+---+------+----+----------------+----------------+\n",
            "| id|nombre|edad|          correo|          ciudad|\n",
            "+---+------+----+----------------+----------------+\n",
            "|  1|  Juan|  25|  juan@gmail.com|Ciudad de México|\n",
            "|  2|   Ana|  30| ana@hotmail.com|     Guadalajara|\n",
            "|  3|  Luis|  22|  luis@yahoo.com|       Monterrey|\n",
            "|  4|Carmen|  27|carmen@gmail.com|         Tijuana|\n",
            "|  5| Pedro|  35| pedro@gmail.com|          Puebla|\n",
            "+---+------+----+----------------+----------------+\n",
            "\n"
          ]
        }
      ]
    },
    {
      "cell_type": "code",
      "source": [
        "from pyspark.sql.functions import avg, max, min\n",
        "\n",
        "# Agrupar por país y aplicar funciones agregadas\n",
        "df_grouped = df.groupBy(\"ciudad\").agg(\n",
        "    avg(\"edad\").alias(\"edad_promedio\"),\n",
        "    max(\"edad\").alias(\"edad_maxima\"),\n",
        "    min(\"edad\").alias(\"edad_minima\")\n",
        ")\n",
        "\n",
        "df_grouped.show()"
      ],
      "metadata": {
        "colab": {
          "base_uri": "https://localhost:8080/"
        },
        "id": "NW21XI7NxNfM",
        "outputId": "6d06068e-4eed-4aea-c321-202c2b3d27ca"
      },
      "execution_count": 41,
      "outputs": [
        {
          "output_type": "stream",
          "name": "stdout",
          "text": [
            "+----------------+-------------+-----------+-----------+\n",
            "|          ciudad|edad_promedio|edad_maxima|edad_minima|\n",
            "+----------------+-------------+-----------+-----------+\n",
            "|Ciudad de México|         25.0|         25|         25|\n",
            "|       Monterrey|         22.0|         22|         22|\n",
            "|     Guadalajara|         30.0|         30|         30|\n",
            "|          Puebla|         35.0|         35|         35|\n",
            "|         Tijuana|         27.0|         27|         27|\n",
            "+----------------+-------------+-----------+-----------+\n",
            "\n"
          ]
        }
      ]
    },
    {
      "cell_type": "code",
      "source": [
        "from pyspark.sql import Row\n",
        "\n",
        "# Crear tabla de países y continentes\n",
        "continentes = [\n",
        "    Row(ciudad=\"Ciudad de México\", continente=\"América\"),\n",
        "    Row(ciudad=\"Monterrey\", continente=\"América\"),\n",
        "    Row(ciudad=\"Tijuana\", continente=\"Europa\")\n",
        "]\n",
        "\n",
        "df_continente = spark.createDataFrame(continentes)\n",
        "df_continente.show()"
      ],
      "metadata": {
        "colab": {
          "base_uri": "https://localhost:8080/"
        },
        "id": "BxhbaNepyMK7",
        "outputId": "007c8d95-19c8-4984-bb14-6a3e31b2d6c9"
      },
      "execution_count": 42,
      "outputs": [
        {
          "output_type": "stream",
          "name": "stdout",
          "text": [
            "+----------------+----------+\n",
            "|          ciudad|continente|\n",
            "+----------------+----------+\n",
            "|Ciudad de México|   América|\n",
            "|       Monterrey|   América|\n",
            "|         Tijuana|    Europa|\n",
            "+----------------+----------+\n",
            "\n"
          ]
        }
      ]
    },
    {
      "cell_type": "code",
      "source": [
        "df_joined = df.join(df_continente, on=\"ciudad\", how=\"left\")\n",
        "df_joined.show()"
      ],
      "metadata": {
        "colab": {
          "base_uri": "https://localhost:8080/"
        },
        "id": "X-VSJiXlyc9w",
        "outputId": "cff44de1-500c-4214-f2eb-0f943121632c"
      },
      "execution_count": 44,
      "outputs": [
        {
          "output_type": "stream",
          "name": "stdout",
          "text": [
            "+----------------+---+------+----+----------------+----------+\n",
            "|          ciudad| id|nombre|edad|          correo|continente|\n",
            "+----------------+---+------+----+----------------+----------+\n",
            "|Ciudad de México|  1|  Juan|  25|  juan@gmail.com|   América|\n",
            "|       Monterrey|  3|  Luis|  22|  luis@yahoo.com|   América|\n",
            "|     Guadalajara|  2|   Ana|  30| ana@hotmail.com|      NULL|\n",
            "|          Puebla|  5| Pedro|  35| pedro@gmail.com|      NULL|\n",
            "|         Tijuana|  4|Carmen|  27|carmen@gmail.com|    Europa|\n",
            "+----------------+---+------+----+----------------+----------+\n",
            "\n"
          ]
        }
      ]
    },
    {
      "cell_type": "code",
      "source": [
        "# Guardar resultados agrupados en CSV\n",
        "df_grouped.write.mode(\"overwrite\").csv(\"/content/output_por_pais.csv\")\n",
        "\n",
        "# Guardar resultados agrupados en formato Parquet\n",
        "df_grouped.write.mode(\"overwrite\").parquet(\"/content/output_por_pais.parquet\")"
      ],
      "metadata": {
        "id": "SPwY9vRVyjRc"
      },
      "execution_count": 45,
      "outputs": []
    },
    {
      "cell_type": "code",
      "source": [
        "from pyspark.sql.functions import when"
      ],
      "metadata": {
        "id": "r8ZZYsYnzWZE"
      },
      "execution_count": 46,
      "outputs": []
    },
    {
      "cell_type": "code",
      "source": [
        "df = df.withColumn(\"es_adulto\", when(df.edad >= 18, True).otherwise(False))\n",
        "df.select(\"nombre\", \"edad\", \"es_adulto\").show()"
      ],
      "metadata": {
        "colab": {
          "base_uri": "https://localhost:8080/"
        },
        "id": "6IRMZ24Nzb5m",
        "outputId": "d6ef6125-58ee-4dda-e379-8d735fbb2688"
      },
      "execution_count": 47,
      "outputs": [
        {
          "output_type": "stream",
          "name": "stdout",
          "text": [
            "+------+----+---------+\n",
            "|nombre|edad|es_adulto|\n",
            "+------+----+---------+\n",
            "|  Juan|  25|     true|\n",
            "|   Ana|  30|     true|\n",
            "|  Luis|  22|     true|\n",
            "|Carmen|  27|     true|\n",
            "| Pedro|  35|     true|\n",
            "+------+----+---------+\n",
            "\n"
          ]
        }
      ]
    },
    {
      "cell_type": "code",
      "source": [
        "from pyspark.sql.functions import col\n",
        "\n",
        "df = df.withColumn(\n",
        "    \"rango_edad\",\n",
        "    when(col(\"edad\") < 18, \"menor\")\n",
        "    .when((col(\"edad\") >= 18) & (col(\"edad\") <= 29), \"joven\")\n",
        "    .when((col(\"edad\") >= 30) & (col(\"edad\") <= 59), \"adulto\")\n",
        "    .otherwise(\"mayor\")\n",
        ")\n",
        "\n",
        "df.select(\"nombre\", \"edad\", \"rango_edad\").show()"
      ],
      "metadata": {
        "colab": {
          "base_uri": "https://localhost:8080/"
        },
        "id": "cAF7hlfAzeMB",
        "outputId": "74054bd5-1120-41bb-9f47-8d550606f19c"
      },
      "execution_count": 48,
      "outputs": [
        {
          "output_type": "stream",
          "name": "stdout",
          "text": [
            "+------+----+----------+\n",
            "|nombre|edad|rango_edad|\n",
            "+------+----+----------+\n",
            "|  Juan|  25|     joven|\n",
            "|   Ana|  30|    adulto|\n",
            "|  Luis|  22|     joven|\n",
            "|Carmen|  27|     joven|\n",
            "| Pedro|  35|    adulto|\n",
            "+------+----+----------+\n",
            "\n"
          ]
        }
      ]
    },
    {
      "cell_type": "code",
      "source": [
        "df.show(truncate=False)"
      ],
      "metadata": {
        "colab": {
          "base_uri": "https://localhost:8080/"
        },
        "id": "hdgNZqYpzfZd",
        "outputId": "ba71bef9-923b-4c73-c198-f6a8ce26840a"
      },
      "execution_count": 49,
      "outputs": [
        {
          "output_type": "stream",
          "name": "stdout",
          "text": [
            "+---+------+----+----------------+----------------+---------+----------+\n",
            "|id |nombre|edad|correo          |ciudad          |es_adulto|rango_edad|\n",
            "+---+------+----+----------------+----------------+---------+----------+\n",
            "|1  |Juan  |25  |juan@gmail.com  |Ciudad de México|true     |joven     |\n",
            "|2  |Ana   |30  |ana@hotmail.com |Guadalajara     |true     |adulto    |\n",
            "|3  |Luis  |22  |luis@yahoo.com  |Monterrey       |true     |joven     |\n",
            "|4  |Carmen|27  |carmen@gmail.com|Tijuana         |true     |joven     |\n",
            "|5  |Pedro |35  |pedro@gmail.com |Puebla          |true     |adulto    |\n",
            "+---+------+----+----------------+----------------+---------+----------+\n",
            "\n"
          ]
        }
      ]
    },
    {
      "cell_type": "code",
      "source": [
        "df.orderBy(col(\"edad\").desc()).show()"
      ],
      "metadata": {
        "colab": {
          "base_uri": "https://localhost:8080/"
        },
        "id": "XP2pR_ir0W-R",
        "outputId": "84bb7c4c-2011-41ac-d2f5-923ef1aeacaf"
      },
      "execution_count": 50,
      "outputs": [
        {
          "output_type": "stream",
          "name": "stdout",
          "text": [
            "+---+------+----+----------------+----------------+---------+----------+\n",
            "| id|nombre|edad|          correo|          ciudad|es_adulto|rango_edad|\n",
            "+---+------+----+----------------+----------------+---------+----------+\n",
            "|  5| Pedro|  35| pedro@gmail.com|          Puebla|     true|    adulto|\n",
            "|  2|   Ana|  30| ana@hotmail.com|     Guadalajara|     true|    adulto|\n",
            "|  4|Carmen|  27|carmen@gmail.com|         Tijuana|     true|     joven|\n",
            "|  1|  Juan|  25|  juan@gmail.com|Ciudad de México|     true|     joven|\n",
            "|  3|  Luis|  22|  luis@yahoo.com|       Monterrey|     true|     joven|\n",
            "+---+------+----+----------------+----------------+---------+----------+\n",
            "\n"
          ]
        }
      ]
    },
    {
      "cell_type": "code",
      "source": [
        "df.filter(col(\"es_adulto\") == True).show()"
      ],
      "metadata": {
        "colab": {
          "base_uri": "https://localhost:8080/"
        },
        "id": "1yNYAXoq0agD",
        "outputId": "2124a8ec-e1ee-427e-de48-01e50a8ebb08"
      },
      "execution_count": 51,
      "outputs": [
        {
          "output_type": "stream",
          "name": "stdout",
          "text": [
            "+---+------+----+----------------+----------------+---------+----------+\n",
            "| id|nombre|edad|          correo|          ciudad|es_adulto|rango_edad|\n",
            "+---+------+----+----------------+----------------+---------+----------+\n",
            "|  1|  Juan|  25|  juan@gmail.com|Ciudad de México|     true|     joven|\n",
            "|  2|   Ana|  30| ana@hotmail.com|     Guadalajara|     true|    adulto|\n",
            "|  3|  Luis|  22|  luis@yahoo.com|       Monterrey|     true|     joven|\n",
            "|  4|Carmen|  27|carmen@gmail.com|         Tijuana|     true|     joven|\n",
            "|  5| Pedro|  35| pedro@gmail.com|          Puebla|     true|    adulto|\n",
            "+---+------+----+----------------+----------------+---------+----------+\n",
            "\n"
          ]
        }
      ]
    },
    {
      "cell_type": "code",
      "source": [
        "df.filter(col(\"rango_edad\") == \"adulto\").show()"
      ],
      "metadata": {
        "colab": {
          "base_uri": "https://localhost:8080/"
        },
        "id": "wgkqxrS10dAo",
        "outputId": "f366b0b0-b51e-4b41-c9e3-48296842a29d"
      },
      "execution_count": 52,
      "outputs": [
        {
          "output_type": "stream",
          "name": "stdout",
          "text": [
            "+---+------+----+---------------+-----------+---------+----------+\n",
            "| id|nombre|edad|         correo|     ciudad|es_adulto|rango_edad|\n",
            "+---+------+----+---------------+-----------+---------+----------+\n",
            "|  2|   Ana|  30|ana@hotmail.com|Guadalajara|     true|    adulto|\n",
            "|  5| Pedro|  35|pedro@gmail.com|     Puebla|     true|    adulto|\n",
            "+---+------+----+---------------+-----------+---------+----------+\n",
            "\n"
          ]
        }
      ]
    },
    {
      "cell_type": "code",
      "source": [
        "df.filter((col(\"rango_edad\") == \"adulto\") & (col(\"edad\") > 40)).show()"
      ],
      "metadata": {
        "colab": {
          "base_uri": "https://localhost:8080/"
        },
        "id": "P_2aYsWS0fn2",
        "outputId": "89459a0c-af55-4be8-d0b5-b24bf15a7362"
      },
      "execution_count": 53,
      "outputs": [
        {
          "output_type": "stream",
          "name": "stdout",
          "text": [
            "+---+------+----+------+------+---------+----------+\n",
            "| id|nombre|edad|correo|ciudad|es_adulto|rango_edad|\n",
            "+---+------+----+------+------+---------+----------+\n",
            "+---+------+----+------+------+---------+----------+\n",
            "\n"
          ]
        }
      ]
    },
    {
      "cell_type": "code",
      "source": [
        "df.limit(3).show()"
      ],
      "metadata": {
        "colab": {
          "base_uri": "https://localhost:8080/"
        },
        "id": "eqq1MCPN0ixf",
        "outputId": "a8c77fe4-70c2-4c6c-e79e-a68fb6dfe3e9"
      },
      "execution_count": 54,
      "outputs": [
        {
          "output_type": "stream",
          "name": "stdout",
          "text": [
            "+---+------+----+---------------+----------------+---------+----------+\n",
            "| id|nombre|edad|         correo|          ciudad|es_adulto|rango_edad|\n",
            "+---+------+----+---------------+----------------+---------+----------+\n",
            "|  1|  Juan|  25| juan@gmail.com|Ciudad de México|     true|     joven|\n",
            "|  2|   Ana|  30|ana@hotmail.com|     Guadalajara|     true|    adulto|\n",
            "|  3|  Luis|  22| luis@yahoo.com|       Monterrey|     true|     joven|\n",
            "+---+------+----+---------------+----------------+---------+----------+\n",
            "\n"
          ]
        }
      ]
    },
    {
      "cell_type": "code",
      "source": [
        "df_filtrado = df.filter((col(\"es_adulto\") == True) & (col(\"edad\") > 40))"
      ],
      "metadata": {
        "id": "InLn6bl9092F"
      },
      "execution_count": 55,
      "outputs": []
    },
    {
      "cell_type": "code",
      "source": [
        "df_filtrado.write.mode(\"overwrite\").option(\"header\", True).csv(\"/content/usuarios_filtrados\")"
      ],
      "metadata": {
        "id": "rioKlSg90_8x"
      },
      "execution_count": 56,
      "outputs": []
    },
    {
      "cell_type": "code",
      "source": [
        "df_nuevo = spark.read.csv(\"/content/usuarios_filtrados\", header=True, inferSchema=True)\n",
        "df_nuevo.show()"
      ],
      "metadata": {
        "colab": {
          "base_uri": "https://localhost:8080/"
        },
        "id": "zWVwcmjo1D6B",
        "outputId": "52fbd7fd-8e97-4970-bbcc-40a984013867"
      },
      "execution_count": 57,
      "outputs": [
        {
          "output_type": "stream",
          "name": "stdout",
          "text": [
            "+---+------+----+------+------+---------+----------+\n",
            "| id|nombre|edad|correo|ciudad|es_adulto|rango_edad|\n",
            "+---+------+----+------+------+---------+----------+\n",
            "+---+------+----+------+------+---------+----------+\n",
            "\n"
          ]
        }
      ]
    },
    {
      "cell_type": "code",
      "source": [
        "df.createOrReplaceTempView(\"usuarios\")"
      ],
      "metadata": {
        "id": "LhkYDDMJ31YV"
      },
      "execution_count": 58,
      "outputs": []
    },
    {
      "cell_type": "code",
      "source": [
        "resultado_sql = spark.sql(\"\"\"\n",
        "    SELECT ciudad, COUNT(*) AS total_usuarios, AVG(edad) AS edad_promedio\n",
        "    FROM usuarios\n",
        "    GROUP BY ciudad\n",
        "    ORDER BY total_usuarios DESC\n",
        "\"\"\")\n",
        "resultado_sql.show()"
      ],
      "metadata": {
        "colab": {
          "base_uri": "https://localhost:8080/"
        },
        "id": "HlvZkuRr32e3",
        "outputId": "3452b78c-a71f-4c7b-f77e-def180af6eff"
      },
      "execution_count": 59,
      "outputs": [
        {
          "output_type": "stream",
          "name": "stdout",
          "text": [
            "+----------------+--------------+-------------+\n",
            "|          ciudad|total_usuarios|edad_promedio|\n",
            "+----------------+--------------+-------------+\n",
            "|Ciudad de México|             1|         25.0|\n",
            "|       Monterrey|             1|         22.0|\n",
            "|     Guadalajara|             1|         30.0|\n",
            "|          Puebla|             1|         35.0|\n",
            "|         Tijuana|             1|         27.0|\n",
            "+----------------+--------------+-------------+\n",
            "\n"
          ]
        }
      ]
    },
    {
      "cell_type": "code",
      "source": [
        "# MINI PROYECTO SPARK: ANÁLISIS DE USUARIOS\n",
        "\n",
        "# ─────────────────────────────────────────────────────────────\n",
        "# 🛠️ 1. IMPORTAR LIBRERÍAS Y CREAR SESIÓN SPARK\n",
        "# ─────────────────────────────────────────────────────────────\n",
        "from pyspark.sql import SparkSession\n",
        "from pyspark.sql.functions import col, when, avg, count, round\n",
        "\n",
        "spark = SparkSession.builder \\\n",
        "    .appName(\"Proyecto ETL Usuarios\") \\\n",
        "    .getOrCreate()\n",
        "\n",
        "# ─────────────────────────────────────────────────────────────\n",
        "# 📥 2. CARGAR DATOS DESDE CSV\n",
        "# ─────────────────────────────────────────────────────────────\n",
        "df = spark.read.csv(\"/content/usuarios.csv\", header=True, inferSchema=True)\n",
        "df.show(5)\n",
        "df.printSchema()\n",
        "\n",
        "# ─────────────────────────────────────────────────────────────\n",
        "# 🧹 3. LIMPIEZA DE DATOS\n",
        "# Eliminar duplicados y registros con valores nulos en columnas clave\n",
        "# ─────────────────────────────────────────────────────────────\n",
        "df_clean = df.dropDuplicates().dropna(subset=[\"nombre\", \"edad\", \"ciudad\"])\n",
        "df_clean.show(5)\n",
        "\n",
        "# ─────────────────────────────────────────────────────────────\n",
        "# 🔧 4. TRANSFORMACIONES\n",
        "# Agregar columna \"es_adulto\" y \"rango_edad\"\n",
        "# ─────────────────────────────────────────────────────────────\n",
        "df_transformed = df_clean.withColumn(\n",
        "    \"es_adulto\", when(col(\"edad\") >= 18, True).otherwise(False)\n",
        ").withColumn(\n",
        "    \"rango_edad\", when(col(\"edad\") < 18, \"menor\")\n",
        "    .when((col(\"edad\") >= 18) & (col(\"edad\") <= 29), \"no es\")\n",
        "    .when((col(\"edad\") >= 30) & (col(\"edad\") <= 59), \"adulto\")\n",
        "    .otherwise(\"mayor\")\n",
        ")\n",
        "\n",
        "df_transformed.show(5)\n",
        "\n",
        "# ─────────────────────────────────────────────────────────────\n",
        "# 📊 5. ANÁLISIS: ESTADÍSTICAS POR CIUDAD\n",
        "# Contar usuarios y calcular edad promedio por ciudad\n",
        "# ─────────────────────────────────────────────────────────────\n",
        "df_estadisticas = df_transformed.groupBy(\"ciudad\").agg(\n",
        "    count(\"*\").alias(\"total_usuarios\"),\n",
        "    round(avg(\"edad\"), 1).alias(\"edad_promedio\")\n",
        ")\n",
        "\n",
        "df_estadisticas.show()\n",
        "\n",
        "# ─────────────────────────────────────────────────────────────\n",
        "# 💾 6. GUARDAR RESULTADOS EN CSV\n",
        "# Se guardan en /content para Google Colab o local si estás en Jupyter\n",
        "# ─────────────────────────────────────────────────────────────\n",
        "df_transformed.write.mode(\"overwrite\").option(\"header\", \"true\") \\\n",
        "    .csv(\"/content/usuarios_transformados.csv\")\n",
        "\n",
        "df_estadisticas.write.mode(\"overwrite\").option(\"header\", \"true\") \\\n",
        "    .csv(\"/content/estadisticas_ciudad.csv\")\n",
        "\n",
        "# ─────────────────────────────────────────────────────────────"
      ],
      "metadata": {
        "colab": {
          "base_uri": "https://localhost:8080/"
        },
        "id": "b1Jacy__5lzF",
        "outputId": "918abd91-0826-4828-d25e-db95f22d9022"
      },
      "execution_count": 60,
      "outputs": [
        {
          "output_type": "stream",
          "name": "stdout",
          "text": [
            "+---+------+----+----------------+----------------+\n",
            "| id|nombre|edad|          correo|          ciudad|\n",
            "+---+------+----+----------------+----------------+\n",
            "|  1|  Juan|  25|  juan@gmail.com|Ciudad de México|\n",
            "|  2|   Ana|  30| ana@hotmail.com|     Guadalajara|\n",
            "|  3|  Luis|  22|  luis@yahoo.com|       Monterrey|\n",
            "|  4|Carmen|  27|carmen@gmail.com|         Tijuana|\n",
            "|  5| Pedro|  35| pedro@gmail.com|          Puebla|\n",
            "+---+------+----+----------------+----------------+\n",
            "\n",
            "root\n",
            " |-- id: integer (nullable = true)\n",
            " |-- nombre: string (nullable = true)\n",
            " |-- edad: integer (nullable = true)\n",
            " |-- correo: string (nullable = true)\n",
            " |-- ciudad: string (nullable = true)\n",
            "\n",
            "+---+------+----+----------------+----------------+\n",
            "| id|nombre|edad|          correo|          ciudad|\n",
            "+---+------+----+----------------+----------------+\n",
            "|  4|Carmen|  27|carmen@gmail.com|         Tijuana|\n",
            "|  5| Pedro|  35| pedro@gmail.com|          Puebla|\n",
            "|  2|   Ana|  30| ana@hotmail.com|     Guadalajara|\n",
            "|  3|  Luis|  22|  luis@yahoo.com|       Monterrey|\n",
            "|  1|  Juan|  25|  juan@gmail.com|Ciudad de México|\n",
            "+---+------+----+----------------+----------------+\n",
            "\n",
            "+---+------+----+----------------+----------------+---------+----------+\n",
            "| id|nombre|edad|          correo|          ciudad|es_adulto|rango_edad|\n",
            "+---+------+----+----------------+----------------+---------+----------+\n",
            "|  4|Carmen|  27|carmen@gmail.com|         Tijuana|     true|     no es|\n",
            "|  5| Pedro|  35| pedro@gmail.com|          Puebla|     true|    adulto|\n",
            "|  2|   Ana|  30| ana@hotmail.com|     Guadalajara|     true|    adulto|\n",
            "|  3|  Luis|  22|  luis@yahoo.com|       Monterrey|     true|     no es|\n",
            "|  1|  Juan|  25|  juan@gmail.com|Ciudad de México|     true|     no es|\n",
            "+---+------+----+----------------+----------------+---------+----------+\n",
            "\n",
            "+----------------+--------------+-------------+\n",
            "|          ciudad|total_usuarios|edad_promedio|\n",
            "+----------------+--------------+-------------+\n",
            "|Ciudad de México|             1|         25.0|\n",
            "|       Monterrey|             1|         22.0|\n",
            "|     Guadalajara|             1|         30.0|\n",
            "|          Puebla|             1|         35.0|\n",
            "|         Tijuana|             1|         27.0|\n",
            "+----------------+--------------+-------------+\n",
            "\n"
          ]
        }
      ]
    }
  ]
}